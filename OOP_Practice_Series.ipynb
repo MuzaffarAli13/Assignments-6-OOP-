{
  "cells": [
    {
      "cell_type": "markdown",
      "metadata": {
        "id": "view-in-github",
        "colab_type": "text"
      },
      "source": [
        "<a href=\"https://colab.research.google.com/github/MuzaffarAli13/Assignments-6-OOP-/blob/main/OOP_Practice_Series.ipynb\" target=\"_parent\"><img src=\"https://colab.research.google.com/assets/colab-badge.svg\" alt=\"Open In Colab\"/></a>"
      ]
    },
    {
      "cell_type": "markdown",
      "metadata": {
        "id": "U7AFLUEnpaZq"
      },
      "source": [
        "# 06_Build_Compose_and_Decorate_A_Complete_Traditional_OOP_Practice_Series"
      ]
    },
    {
      "cell_type": "markdown",
      "metadata": {
        "id": "H_2ZLK3Ape1s"
      },
      "source": [
        "# 1. Using self\n",
        "**Assignment**:\n",
        "- Create a class Student with attributes name and marks. Use the self keyword to initialize these values via a constructor. Add a method display() that prints student details."
      ]
    },
    {
      "cell_type": "code",
      "execution_count": null,
      "metadata": {
        "colab": {
          "base_uri": "https://localhost:8080/"
        },
        "id": "IuTlk3EZpsW_",
        "outputId": "b9637c26-9f52-44d4-e1b8-5da17cdbdec5"
      },
      "outputs": [
        {
          "name": "stdout",
          "output_type": "stream",
          "text": [
            "Name Ali\n",
            "Marks: 80\n"
          ]
        }
      ],
      "source": [
        "class Student:\n",
        "  def __init__(self,name:str,marks:int)->None:\n",
        "    self.name:str = name\n",
        "    self.marks:int = marks\n",
        "\n",
        "  def display(self):\n",
        "    print(f\"Name {self.name}\\nMarks: {self.marks}\")\n",
        "\n",
        "\n",
        "obj1 = Student(\"Ali\",80)\n",
        "obj1.display()"
      ]
    },
    {
      "cell_type": "markdown",
      "metadata": {
        "id": "SwyrPFxfdt7R"
      },
      "source": [
        "# 2 Using cls\n",
        "Assignment:\n",
        "- Create a class Counter that keeps track of how many objects have been created. Use a class variable and a class method with cls to manage and display the count."
      ]
    },
    {
      "cell_type": "code",
      "execution_count": null,
      "metadata": {
        "id": "oYQGRg3Jd_6L",
        "colab": {
          "base_uri": "https://localhost:8080/"
        },
        "outputId": "e45aa142-2712-441b-ab04-bbf9385d3c08"
      },
      "outputs": [
        {
          "output_type": "stream",
          "name": "stdout",
          "text": [
            "Total class 1\n"
          ]
        }
      ],
      "source": [
        "class  Counter():\n",
        "  count = 0\n",
        "  def __init__(self) -> None:\n",
        "    Counter.count += 1\n",
        "\n",
        "  @classmethod\n",
        "  def display(cls):\n",
        "    print(f\"Total class {cls.count}\")\n",
        "\n",
        "c1 = Counter()\n",
        "Counter.display()\n"
      ]
    },
    {
      "cell_type": "markdown",
      "source": [
        "# 3 Public Variables and Methods\n",
        "- Assignment:\n",
        "- Create a class Car with a public variable **brand** and a public method **start().** Instantiate the class and access both from outside the class.\n",
        "\n"
      ],
      "metadata": {
        "id": "w1mdPjTX1Bg8"
      }
    },
    {
      "cell_type": "code",
      "source": [
        "\n",
        "class Car():\n",
        "  def __init__(self,brand):\n",
        "    self.brand = brand\n",
        "\n",
        "  def start(self):\n",
        "    print(f\"{self.brand} car strart..\")\n",
        "\n",
        "\n",
        "c1 = Car(\"Toyota\")\n",
        "c1.start()"
      ],
      "metadata": {
        "colab": {
          "base_uri": "https://localhost:8080/"
        },
        "id": "zPbqQ1T41N52",
        "outputId": "4aecb19b-1bfe-4795-c00b-0071295ece61"
      },
      "execution_count": null,
      "outputs": [
        {
          "output_type": "stream",
          "name": "stdout",
          "text": [
            "Toyota car strart..\n"
          ]
        }
      ]
    },
    {
      "cell_type": "markdown",
      "source": [
        "# 4. Class Variables and Class Methods\n",
        "- Assignment:\n",
        "- Create a class Bank with a class variable bank_name. Add a class method change_bank_name(cls, name) that allows changing the bank name. Show that it affects all instances.\n",
        "\n"
      ],
      "metadata": {
        "id": "meeDs11y7TrX"
      }
    },
    {
      "cell_type": "code",
      "source": [
        "class Bank():\n",
        "  bank_name = \"global bank\"\n",
        "\n",
        "  @classmethod\n",
        "  def change_bank_name(cls, name):\n",
        "     cls.bank_name = name\n",
        "b1 = Bank()\n",
        "print(b1.bank_name)\n",
        "b1.change_bank_name(\"new bank\")\n",
        "print(b1.bank_name)"
      ],
      "metadata": {
        "colab": {
          "base_uri": "https://localhost:8080/"
        },
        "id": "oogR0Ile71yB",
        "outputId": "f26561ce-777f-4abb-8d8c-521194a31d05"
      },
      "execution_count": null,
      "outputs": [
        {
          "output_type": "stream",
          "name": "stdout",
          "text": [
            "global bank\n",
            "new bank\n"
          ]
        }
      ]
    },
    {
      "cell_type": "markdown",
      "source": [
        "# 5. Static Variables and Static Methods\n",
        "- Assignment:\n",
        "-- Create a class MathUtils with a static method **add(a, b)** that returns the sum. No class or instance variables should be used.\n",
        "\n"
      ],
      "metadata": {
        "id": "b9C4OxVlA5nu"
      }
    },
    {
      "cell_type": "code",
      "source": [
        "class MathUtils:\n",
        "    @staticmethod\n",
        "    def add(a, b):\n",
        "        return a + b\n",
        "\n",
        "result = MathUtils.add(5, 7)\n",
        "print(\"5 + 7 =\", result)"
      ],
      "metadata": {
        "colab": {
          "base_uri": "https://localhost:8080/"
        },
        "id": "QUvKJgM2Bd88",
        "outputId": "06aa543c-5fe9-4d3f-f535-3b8b047ef256"
      },
      "execution_count": null,
      "outputs": [
        {
          "output_type": "stream",
          "name": "stdout",
          "text": [
            "5 + 7 = 12\n"
          ]
        }
      ]
    },
    {
      "cell_type": "markdown",
      "source": [
        "# 6. Constructors and Destructors\n",
        "- Assignment:\n",
        "Create a class Logger that prints a message when an object is created (constructor) and another message when it is destroyed (destructor).\n",
        "\n"
      ],
      "metadata": {
        "id": "vb8e6PuTelvJ"
      }
    },
    {
      "cell_type": "code",
      "source": [
        "class Logger:\n",
        "    # Constructor\n",
        "    def __init__(self):\n",
        "        print(\"Object bana liya gaya hai (Constructor call hua)\")\n",
        "\n",
        "    # Destructor\n",
        "    def __del__(self):\n",
        "        print(\"Object destroy ho gaya hai (Destructor call hua)\")\n",
        "\n",
        "# Object banana\n",
        "logger1 = Logger()\n",
        "\n",
        "# Object ka kaam khatam\n",
        "del logger1\n",
        "\n",
        "# Ya program khatam hote hi destructor automatic call ho jata hai\n"
      ],
      "metadata": {
        "colab": {
          "base_uri": "https://localhost:8080/"
        },
        "id": "Z_FE1hXbiOrs",
        "outputId": "94d89142-1f80-4f9c-a175-90b337c842f7"
      },
      "execution_count": null,
      "outputs": [
        {
          "output_type": "stream",
          "name": "stdout",
          "text": [
            "Object bana liya gaya hai (Constructor call hua)\n",
            "Object destroy ho gaya hai (Destructor call hua)\n"
          ]
        }
      ]
    },
    {
      "cell_type": "markdown",
      "source": [
        "# 7. Access Modifiers: Public, Private, and Protected\n",
        "- Assignment:\n",
        "Create a class Employee with:\n",
        "\n",
        "  - a public variable name,\n",
        "\n",
        "  - a protected variable _salary, and\n",
        "\n",
        "  - a private variable __ssn.\n",
        "\n",
        " Try accessing all three variables from an object of the class and document what happens.\n",
        "\n"
      ],
      "metadata": {
        "id": "izmN8BplkEHP"
      }
    },
    {
      "cell_type": "code",
      "source": [
        "class Employee:\n",
        "    def __init__(self, name, salary, ssn):\n",
        "        self.name = name            # Public\n",
        "        self._salary = salary       # Protected\n",
        "        self.__ssn = ssn            # Private\n",
        "\n",
        "# Object banana\n",
        "emp1 = Employee(\"Muzaffar\", 50000, \"123-45-6789\")\n",
        "\n",
        "# Public variable access\n",
        "print(\"Name (Public):\", emp1.name)\n",
        "\n",
        "# Protected variable access\n",
        "print(\"Salary (Protected):\", emp1._salary)\n",
        "\n",
        "# Private variable access\n",
        "try:\n",
        "    print(\"SSN (Private):\", emp1.__ssn)\n",
        "except AttributeError:\n",
        "    print(\"Private variable direct access nahi ho sakta!\")\n",
        "\n",
        "# Lekin private variable ko access karne ka ek hidden way hota hai:\n",
        "print(\"SSN (Private via Name Mangling):\", emp1._Employee__ssn)\n"
      ],
      "metadata": {
        "colab": {
          "base_uri": "https://localhost:8080/"
        },
        "id": "bnHv0i-xkUwt",
        "outputId": "62b363f5-abdf-4791-c5d7-3ca24726e06c"
      },
      "execution_count": null,
      "outputs": [
        {
          "output_type": "stream",
          "name": "stdout",
          "text": [
            "Name (Public): Muzaffar\n",
            "Salary (Protected): 50000\n",
            "Private variable direct access nahi ho sakta!\n",
            "SSN (Private via Name Mangling): 123-45-6789\n"
          ]
        }
      ]
    },
    {
      "cell_type": "markdown",
      "source": [
        "# 8. The super() Function\n",
        "- Assignment:\n",
        "- Create a class Person with a constructor that sets the name.\n",
        " Inherit a class Teacher from it, add a subject field, and use super() to call the base class constructor."
      ],
      "metadata": {
        "id": "T43omfeEmXtP"
      }
    },
    {
      "cell_type": "code",
      "source": [
        "class Person():\n",
        "  def __init__(self,name) -> None:\n",
        "     self.name = name\n",
        "\n",
        "class Teacher(Person):\n",
        "  def __init__(self,name,subject):\n",
        "    super().__init__(name)\n",
        "    self.sunject = subject\n",
        "\n",
        "teaher1 = Teacher(\"Ameen Alam\",\"python\")\n",
        "print(teaher1.name)\n",
        "print(teaher1.sunject)"
      ],
      "metadata": {
        "colab": {
          "base_uri": "https://localhost:8080/"
        },
        "id": "Z9_bf9LfmdVS",
        "outputId": "3e0ee34a-73c2-4d5a-e5d0-07906282a0cc"
      },
      "execution_count": null,
      "outputs": [
        {
          "output_type": "stream",
          "name": "stdout",
          "text": [
            "Ameen Alam\n",
            "python\n"
          ]
        }
      ]
    },
    {
      "cell_type": "markdown",
      "source": [
        "# 9 Abstract Classes and Methods\n",
        "- Assignment:\n",
        "Use the abc module to create an abstract class Shape with an abstract method area(). Inherit a class Rectangle that implements area().\n",
        "\n"
      ],
      "metadata": {
        "id": "4MhavvYFANyz"
      }
    },
    {
      "cell_type": "code",
      "source": [
        "from abc import ABC,abstractmethod\n",
        "class Shape(ABC):\n",
        "  @abstractmethod\n",
        "  def area(self):\n",
        "    pass\n",
        "\n",
        "class Rectangle(Shape):\n",
        "  def __init__(self,width,height):\n",
        "    self.width = width\n",
        "    self.height = height\n",
        "\n",
        "  def area(self):\n",
        "    print(f\"Area of rectangle: {self.width * self.height}\")\n",
        "r1 = Rectangle(5,10)\n",
        "r1.area()"
      ],
      "metadata": {
        "colab": {
          "base_uri": "https://localhost:8080/"
        },
        "id": "jQwQ1g18AV3h",
        "outputId": "cd1f8350-0a25-420d-e035-484774f0ec65"
      },
      "execution_count": null,
      "outputs": [
        {
          "output_type": "stream",
          "name": "stdout",
          "text": [
            "Area of rectangle: 50\n"
          ]
        }
      ]
    },
    {
      "cell_type": "markdown",
      "source": [
        "# 10. Instance Methods\n",
        "- Assignment:\n",
        " Create a class Dog with instance variables name and breed. Add an instance method bark() that prints a message including the dog's name.\n",
        "\n"
      ],
      "metadata": {
        "id": "SZ6fTnrFEdtJ"
      }
    },
    {
      "cell_type": "code",
      "source": [
        "class Dog():\n",
        "  def __init__(self,name,breed):\n",
        "    self.name = name\n",
        "    self.breed = breed\n",
        "\n",
        "  def bark(self):\n",
        "    print(f\"{self.name} is Bark Bark!\")\n",
        "\n",
        "dog = Dog(\"kitti\",\"dog\")\n",
        "dog.bark()\n"
      ],
      "metadata": {
        "colab": {
          "base_uri": "https://localhost:8080/"
        },
        "id": "8UBe-cYdEhKi",
        "outputId": "92ed0422-dcc6-40f6-cbaf-aff25a3e3eca"
      },
      "execution_count": null,
      "outputs": [
        {
          "output_type": "stream",
          "name": "stdout",
          "text": [
            "kitti is Bark Bark!\n"
          ]
        }
      ]
    },
    {
      "cell_type": "markdown",
      "source": [
        "# 11. Class Methods\n",
        "- Assignment:\n",
        " Create a class Book with a class variable total_books. Add a class method increment_book_count() to increase the count when a new book is added."
      ],
      "metadata": {
        "id": "pO0TwEkWGUOv"
      }
    },
    {
      "cell_type": "code",
      "source": [
        "class Book():\n",
        "    total_books = 0\n",
        "\n",
        "    def __init__(self):\n",
        "       Book.increment_book_count()\n",
        "\n",
        "\n",
        "    @classmethod\n",
        "    def increment_book_count(cls):\n",
        "        cls.total_books += 1\n",
        "\n",
        "c1 = Book()\n",
        "c2 = Book()\n",
        "c3 = Book()\n",
        "\n",
        "print(f\"Total Books: {Book.total_books}\")"
      ],
      "metadata": {
        "colab": {
          "base_uri": "https://localhost:8080/"
        },
        "id": "DKPAi-ezGZSC",
        "outputId": "c9635177-594d-4698-bb61-39ee6e958245"
      },
      "execution_count": null,
      "outputs": [
        {
          "output_type": "stream",
          "name": "stdout",
          "text": [
            "Total Books: 3\n"
          ]
        }
      ]
    },
    {
      "cell_type": "markdown",
      "source": [
        "#12. Static Methods\n",
        "- Assignment:\n",
        "Create a class TemperatureConverter with a static method celsius_to_fahrenheit(c) that returns the Fahrenheit value.\n",
        "\n"
      ],
      "metadata": {
        "id": "I1pC1LwgMtnE"
      }
    },
    {
      "cell_type": "code",
      "source": [
        "class TemperatureConverter():\n",
        "\n",
        "  @staticmethod\n",
        "  def celsius_to_fahrenheit(c):\n",
        "    return (c * 9/5) + 32\n",
        "\n",
        "result = TemperatureConverter.celsius_to_fahrenheit(41)\n",
        "print(result)\n"
      ],
      "metadata": {
        "colab": {
          "base_uri": "https://localhost:8080/"
        },
        "id": "Xrp2CP1iMxR2",
        "outputId": "76d301d3-11ed-4619-9e1f-6c26f1de2827"
      },
      "execution_count": null,
      "outputs": [
        {
          "output_type": "stream",
          "name": "stdout",
          "text": [
            "105.8\n"
          ]
        }
      ]
    },
    {
      "cell_type": "markdown",
      "source": [
        "# 13. Composition\n",
        "- Assignment:\n",
        "Create a class Engine and a class Car. Use composition by passing an Engine object to the Car class during initialization. Access a method of the Engine class via the Car class."
      ],
      "metadata": {
        "id": "TfEa_amoSe97"
      }
    },
    {
      "cell_type": "code",
      "source": [
        "class Engine():\n",
        "  def start(self):\n",
        "    print(\"car started...\")\n",
        "\n",
        "class Car():\n",
        "  def __init__(self,engine):\n",
        "    self.engine = engine\n",
        "\n",
        "  def start_start(self):\n",
        "      self.engine.start()\n",
        "\n",
        "my_engine = Engine()\n",
        "\n",
        "mycar = Car(my_engine)\n",
        "mycar.start_start()\n"
      ],
      "metadata": {
        "colab": {
          "base_uri": "https://localhost:8080/"
        },
        "id": "DaDAKYLpSi3j",
        "outputId": "35445c87-e402-4dce-e460-68928e17d7b7"
      },
      "execution_count": null,
      "outputs": [
        {
          "output_type": "stream",
          "name": "stdout",
          "text": [
            "car started...\n"
          ]
        }
      ]
    },
    {
      "cell_type": "markdown",
      "source": [
        "# 14. Aggregation\n",
        "- Assignment:\n",
        "Create a class Department and a class Employee. Use aggregation by having a Department object store a reference to an Employee object that exists independently of it."
      ],
      "metadata": {
        "id": "xVN9QloKhDP3"
      }
    },
    {
      "cell_type": "code",
      "source": [
        "class Employee():\n",
        "  def __init__(self,name) -> None:\n",
        "     self.name = name\n",
        "\n",
        "class Department():\n",
        "   def __init__(self,name,employee) -> None:\n",
        "      self.name = name\n",
        "      self.employee = employee\n",
        "\n",
        "empl = Employee(\"Muzaffar Ali\")\n",
        "dept = Department(\"It\",empl)\n",
        "\n",
        "print(f\"Employe Name: {dept.employee.name}\\nDepartment {dept.name}\")"
      ],
      "metadata": {
        "colab": {
          "base_uri": "https://localhost:8080/"
        },
        "id": "_VMlWSrBhI9b",
        "outputId": "6791f9b9-42e9-4e22-f6b8-7fa939817bb9"
      },
      "execution_count": null,
      "outputs": [
        {
          "output_type": "stream",
          "name": "stdout",
          "text": [
            "Employe Name: Muzaffar Ali\n",
            "Department It\n"
          ]
        }
      ]
    },
    {
      "cell_type": "markdown",
      "source": [
        "#15. Method Resolution Order (MRO) and Diamond Inheritance\n",
        "- Assignment:\n",
        "- Create four classes:\n",
        "\n",
        "- A with a method show(),\n",
        "\n",
        "- B and C that inherit from A and override show(),\n",
        "\n",
        "- D that inherits from both B and C.\n",
        "\n",
        "- Create an object of D and call show() to observe MRO."
      ],
      "metadata": {
        "id": "E0W8JWG-pHqd"
      }
    },
    {
      "cell_type": "code",
      "source": [
        "class A():\n",
        "  def show(self):\n",
        "    print(\"show from A\")\n",
        "class B(A):\n",
        "  def show(self):\n",
        "    print(\"show from B\")\n",
        "class C(A):\n",
        "  def show(self):\n",
        "    print(\"show from C\")\n",
        "\n",
        "class D(B,C):\n",
        "      pass\n",
        "\n",
        "\n",
        "obj_1 = D()\n",
        "obj_1.show()\n",
        "\n",
        "print(D.mro())"
      ],
      "metadata": {
        "colab": {
          "base_uri": "https://localhost:8080/"
        },
        "id": "7e90VaPnpXpx",
        "outputId": "38f6aa1d-5f44-45e2-dc09-a222bc0a60f1"
      },
      "execution_count": null,
      "outputs": [
        {
          "output_type": "stream",
          "name": "stdout",
          "text": [
            "show from B\n",
            "[<class '__main__.D'>, <class '__main__.B'>, <class '__main__.C'>, <class '__main__.A'>, <class 'object'>]\n"
          ]
        }
      ]
    },
    {
      "cell_type": "markdown",
      "source": [
        "16. Function Decorators\n",
        "- Assignment:\n",
        "Write a decorator function log_function_call that prints \"Function is being called\" before a function executes. Apply it to a function say_hello()."
      ],
      "metadata": {
        "id": "Y_oF_CQdtEmC"
      }
    },
    {
      "cell_type": "code",
      "source": [
        "def log_function_call(func):\n",
        "    def wrapper():\n",
        "        print(\"Function is being called\")\n",
        "        func()\n",
        "    return wrapper\n",
        "\n",
        "@log_function_call\n",
        "def say_hello():\n",
        "    print(\"Hello\")\n",
        "\n",
        "say_hello()\n"
      ],
      "metadata": {
        "colab": {
          "base_uri": "https://localhost:8080/"
        },
        "id": "ElCTCDX9taxf",
        "outputId": "0bfc4720-fec9-4bcf-d789-a720ee1f2bd4"
      },
      "execution_count": null,
      "outputs": [
        {
          "output_type": "stream",
          "name": "stdout",
          "text": [
            "Function is being called\n",
            "Hello\n"
          ]
        }
      ]
    },
    {
      "cell_type": "markdown",
      "source": [
        "# 17. Class Decorators\n",
        "- Assignment:\n",
        "- Create a class decorator add_greeting that modifies a class to add a greet() method returning \"Hello from Decorator!\". Apply it to a class Person."
      ],
      "metadata": {
        "id": "5ckVT5MrzgAM"
      }
    },
    {
      "cell_type": "code",
      "source": [
        "def add_greeting(cls):\n",
        "   def greet(self):\n",
        "     return f\"salam {self.name}\"\n",
        "   cls.greet = greet\n",
        "   return cls\n",
        "\n",
        "@add_greeting\n",
        "class Person():\n",
        "  def __init__(self,name):\n",
        "    self.name = name\n",
        "\n",
        "p = Person(\"khan\")\n",
        "print(p.greet())"
      ],
      "metadata": {
        "id": "-Nl1QW4HzkAx",
        "colab": {
          "base_uri": "https://localhost:8080/"
        },
        "outputId": "d87f3812-1418-4a25-d336-d140d4b4e38c"
      },
      "execution_count": 9,
      "outputs": [
        {
          "output_type": "stream",
          "name": "stdout",
          "text": [
            "Hello from Decorator!\n"
          ]
        }
      ]
    },
    {
      "cell_type": "markdown",
      "source": [
        "# 18. Property Decorators: @property, @setter, and @deleter\n",
        "- Assignment:\n",
        "Create a class Product with a private attribute _price. Use @property to get the price, @price.setter to update it, and @price.deleter to delete it."
      ],
      "metadata": {
        "id": "FYM32qXEl5O6"
      }
    },
    {
      "cell_type": "code",
      "source": [
        "class Product:\n",
        "    def __init__(self, price):\n",
        "        self._price = price   # private attribute\n",
        "\n",
        "    @property\n",
        "    def price(self):\n",
        "        # ye getter method hai\n",
        "        return self._price\n",
        "\n",
        "    @price.setter\n",
        "    def price(self, value):\n",
        "        # ye setter method hai\n",
        "        self._price = value\n",
        "\n",
        "    @price.deleter\n",
        "    def price(self):\n",
        "        # ye deleter method hai\n",
        "        del self._price\n",
        "\n",
        "\n",
        "p = Product(1000)\n",
        "\n",
        "\n",
        "print(p.price)  # Output: 1000\n",
        "\n",
        "\n",
        "p.price = 1500\n",
        "print(p.price)  # Output: 1500\n",
        "\n",
        "\n",
        "# del p.price\n",
        "\n",
        "print(p.price)\n"
      ],
      "metadata": {
        "colab": {
          "base_uri": "https://localhost:8080/"
        },
        "id": "WClkuhJol8uC",
        "outputId": "73230c2b-5e5c-4e06-d3bb-3d5a4686f95b"
      },
      "execution_count": 39,
      "outputs": [
        {
          "output_type": "stream",
          "name": "stdout",
          "text": [
            "1000\n",
            "1500\n",
            "1500\n"
          ]
        }
      ]
    },
    {
      "cell_type": "markdown",
      "source": [
        "# 19. callable() and __call__()\n",
        "- Assignment:\n",
        "Create a class Multiplier with an __init__() to set a factor. Define a __call__() method that multiplies an input by the factor. Test it with callable() and by calling the object like a function.\n",
        "\n"
      ],
      "metadata": {
        "id": "0VL26Atyp_i4"
      }
    },
    {
      "cell_type": "code",
      "source": [
        "class Multiplier:\n",
        "    def __init__(self, factor):\n",
        "        self.factor = factor\n",
        "\n",
        "    def __call__(self, number):\n",
        "        return number * self.factor\n",
        "\n",
        "\n",
        "double = Multiplier(2)\n",
        "\n",
        "\n",
        "print(callable(double))\n",
        "\n",
        "result = double(5)\n",
        "print(result)\n",
        "\n",
        "\n",
        "triple = Multiplier(3)\n",
        "print(triple(4))\n"
      ],
      "metadata": {
        "colab": {
          "base_uri": "https://localhost:8080/"
        },
        "id": "MCDzL9WCqC66",
        "outputId": "7f4bcc34-1985-408a-878c-c28966fc2c90"
      },
      "execution_count": 40,
      "outputs": [
        {
          "output_type": "stream",
          "name": "stdout",
          "text": [
            "True\n",
            "10\n",
            "12\n"
          ]
        }
      ]
    },
    {
      "cell_type": "markdown",
      "source": [
        "# 20. Creating a Custom Exception\n",
        "- Assignment:\n",
        "Create a custom exception InvalidAgeError. Write a function check_age(age) that raises this exception if age < 18. Handle it with try...except."
      ],
      "metadata": {
        "id": "Fhe24FMstfqa"
      }
    },
    {
      "cell_type": "code",
      "source": [
        "class Countdown:\n",
        "    def __init__(self, start):\n",
        "        self.current = start\n",
        "\n",
        "    def __iter__(self):\n",
        "        return self  # khud ko iterator bana diya\n",
        "\n",
        "    def __next__(self):\n",
        "        if self.current < 0:\n",
        "            raise StopIteration  # loop yahin rukega\n",
        "        else:\n",
        "            number = self.current\n",
        "            self.current -= 1\n",
        "            return number\n",
        "\n",
        "# Object banao\n",
        "count = Countdown(5)\n",
        "\n",
        "# for loop me chalao\n",
        "for num in count:\n",
        "    print(num)\n"
      ],
      "metadata": {
        "colab": {
          "base_uri": "https://localhost:8080/"
        },
        "id": "LRrZWrdvtjIf",
        "outputId": "37b15cd1-8a0b-4265-88e1-0f90d8230d83"
      },
      "execution_count": 42,
      "outputs": [
        {
          "output_type": "stream",
          "name": "stdout",
          "text": [
            "5\n",
            "4\n",
            "3\n",
            "2\n",
            "1\n",
            "0\n"
          ]
        }
      ]
    },
    {
      "cell_type": "code",
      "source": [],
      "metadata": {
        "id": "06vbFrVntSGD"
      },
      "execution_count": 20,
      "outputs": []
    }
  ],
  "metadata": {
    "colab": {
      "provenance": [],
      "authorship_tag": "ABX9TyP99rw8zJ24A1GDqNERqLqw",
      "include_colab_link": true
    },
    "kernelspec": {
      "display_name": "Python 3",
      "name": "python3"
    },
    "language_info": {
      "name": "python"
    }
  },
  "nbformat": 4,
  "nbformat_minor": 0
}